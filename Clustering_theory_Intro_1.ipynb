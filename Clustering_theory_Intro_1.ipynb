{
 "cells": [
  {
   "cell_type": "markdown",
   "metadata": {},
   "source": [
    "# Clustering\n",
    "\n",
    "__1. Clustering is one of the machine learning technique under Unsupervised learning.__\n",
    "\n",
    "__2. Clustering is kind of exploratory analysis where as classfication is predictive analysis__\n",
    "\n",
    "__3. Unsupervised learning don't have labelled data, it just has inputs and the unsupervised learning aims to find the hidden patterns/ homogenous data subsets in the datasets__\n",
    "\n",
    "__4. Clustering basically decomposes the data set into number of homogenous subsets called clusters.Each of the cluster will have a id, centroid and other details__\n",
    "\n",
    "__5. Once the clusters are formed, there can be other classification techniques applied on them.Since, the clusters are more homogenous and compact the classification models on this induividual cluster perform better than that on whole data set__\n",
    "\n",
    "__6. with in the cluster the data set are similar, where as the data set when compared across the clusters will be different__\n",
    "\n",
    "__7. Clustering can be considered as Data Pre processing step in some of the use cases__"
   ]
  },
  {
   "cell_type": "markdown",
   "metadata": {},
   "source": [
    "# Applications\n",
    "\n",
    "Some of the examples/use cases where clustering can be applied\n",
    "\n",
    "__1. Image procesing : Grouping the similar images in a cluster.__\n",
    "\n",
    "__2. Clustering the patients (healthy, diseased, healthy but disease prone etc).__\n",
    "\n",
    "__3. Customer Segmentation, this helps to strategise different promotion campaigns for different type of customers.__\n",
    "\n",
    "__4. Clustering can also be used to identify the fraudulent / anomoly detection. Example : Swiping a credit card from a totally new location which makes the data point fall out of cluster.__"
   ]
  },
  {
   "cell_type": "markdown",
   "metadata": {},
   "source": [
    "# Clustering Types\n",
    "\n",
    "__Clustering methods can be broadly divided to two types as below__\n",
    "\n",
    "1. Partial Clustering or Un-nested Clustering\n",
    "2. Hierachial Clustering or Nested Clustering"
   ]
  },
  {
   "cell_type": "markdown",
   "metadata": {},
   "source": [
    "__Some of the popular Unsupervised Learning Alogrithms are as listed below, but not limited to this list__\n",
    "\n",
    "1. Kmeans Clustering\n",
    "2. Hierachial Clustering\n",
    "3. DBSCAN\n",
    "4. Mixture Models\n",
    "\n",
    "\n",
    "The above algorithms are basically distance based, meaning the similar data points the lesser the distance and helps to form the cluster. The data points with in the cluster are similar and nearer. Also the clusters should be formed in a way the data sets in the cluster are similar where as when compared across the clusters they are different. "
   ]
  },
  {
   "cell_type": "markdown",
   "metadata": {},
   "source": [
    "__Hierachial Clustering__\n",
    "\n",
    "A set of nested clusters organized as hierachial tree\n",
    "\n",
    "__Partial Clustering__\n",
    "\n",
    "Non overlapping formation of cluster, with a data point present only in one cluster"
   ]
  },
  {
   "cell_type": "markdown",
   "metadata": {},
   "source": [
    "<img src=\"cluster_types.jpeg\" height=\"10\"/>"
   ]
  },
  {
   "cell_type": "markdown",
   "metadata": {},
   "source": []
  },
  {
   "cell_type": "code",
   "execution_count": null,
   "metadata": {},
   "outputs": [],
   "source": []
  },
  {
   "cell_type": "code",
   "execution_count": null,
   "metadata": {},
   "outputs": [],
   "source": []
  }
 ],
 "metadata": {
  "kernelspec": {
   "display_name": "Python 3",
   "language": "python",
   "name": "python3"
  },
  "language_info": {
   "codemirror_mode": {
    "name": "ipython",
    "version": 3
   },
   "file_extension": ".py",
   "mimetype": "text/x-python",
   "name": "python",
   "nbconvert_exporter": "python",
   "pygments_lexer": "ipython3",
   "version": "3.7.3"
  }
 },
 "nbformat": 4,
 "nbformat_minor": 2
}
